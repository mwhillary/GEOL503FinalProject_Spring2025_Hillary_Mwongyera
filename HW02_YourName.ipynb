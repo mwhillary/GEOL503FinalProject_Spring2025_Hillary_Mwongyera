{
 "cells": [
  {
   "cell_type": "markdown",
   "id": "e06af06b-e74f-453c-ae40-e7ebb647b260",
   "metadata": {},
   "source": [
    "# Homework 2: Arrays and Plotting\n",
    "\n",
    "## Part 1: Creating Arrays\n",
    "\n",
    "_1. In a sentence or two, describe the differnces between a list and a NumPy array._"
   ]
  },
  {
   "cell_type": "markdown",
   "id": "f4e4e544-fe7a-47ef-85e0-e4dd6f760f71",
   "metadata": {},
   "source": []
  },
  {
   "cell_type": "markdown",
   "id": "5330fcec-53de-4a38-8513-2f2d4163564e",
   "metadata": {},
   "source": [
    "_2. Import NumPy and create an array that contains twenty zeros._"
   ]
  },
  {
   "cell_type": "code",
   "execution_count": null,
   "id": "f4bc50a7-2f22-47f9-bc50-023644aef419",
   "metadata": {},
   "outputs": [],
   "source": []
  },
  {
   "cell_type": "markdown",
   "id": "36a09fb7-4ba7-4071-925b-07c150a0de81",
   "metadata": {},
   "source": [
    "_3. Create a NumPy array that contains the numbers from 0 to 50, including both the 0 and the 50._"
   ]
  },
  {
   "cell_type": "code",
   "execution_count": null,
   "id": "431daf09-2e34-4709-8def-f252f8c0c592",
   "metadata": {},
   "outputs": [],
   "source": []
  },
  {
   "cell_type": "markdown",
   "id": "c15f0744-2d22-4123-8a40-616a7e59353d",
   "metadata": {},
   "source": [
    "_4. Create a NumPy array with one hundred elements, all the number 0.7._"
   ]
  },
  {
   "cell_type": "code",
   "execution_count": null,
   "id": "be6d53c5-2f67-4a0d-afe4-b601b5c90f6a",
   "metadata": {},
   "outputs": [],
   "source": []
  },
  {
   "cell_type": "markdown",
   "id": "4a6fb833-7ac0-4270-9bc7-5aab5d1a6160",
   "metadata": {},
   "source": [
    "_5. Create a NumPy array that contains three elements: the numbers $\\pi$, $\\sqrt{5}$, and 42. Assign the array to a new variable._"
   ]
  },
  {
   "cell_type": "code",
   "execution_count": null,
   "id": "33021a19-51f7-46c6-b686-4ffaa6d23736",
   "metadata": {},
   "outputs": [],
   "source": []
  },
  {
   "cell_type": "markdown",
   "id": "4f2fe0be-2d2b-460b-877b-6731775855c6",
   "metadata": {},
   "source": [
    "_6. Calculate the mean of the variable you created in step 5._"
   ]
  },
  {
   "cell_type": "code",
   "execution_count": null,
   "id": "e0f69835-0b03-49da-b10d-5c858cb4e0e3",
   "metadata": {},
   "outputs": [],
   "source": []
  },
  {
   "cell_type": "markdown",
   "id": "f0a85420-028a-4587-8985-18b2cc4c064c",
   "metadata": {},
   "source": [
    "## Part 2: Slicing Arrays\n",
    "\n",
    "_1. Write a line of code that extracts the first element of the NumPy array you created in Step 5 above._"
   ]
  },
  {
   "cell_type": "code",
   "execution_count": null,
   "id": "a704e2ef-6716-410e-8682-354529efdc4b",
   "metadata": {},
   "outputs": [],
   "source": []
  },
  {
   "cell_type": "markdown",
   "id": "6b9cfa02-b051-41a9-86a3-310e8a401c94",
   "metadata": {},
   "source": [
    "_2. Create a new variable that contains a NumPy array with the numbers from 0 to 100.  Create a second variable that contains its first ten elements._"
   ]
  },
  {
   "cell_type": "code",
   "execution_count": null,
   "id": "6c20d94b-fdbe-4033-b4ca-881796ace6f1",
   "metadata": {},
   "outputs": [],
   "source": []
  },
  {
   "cell_type": "markdown",
   "id": "74a9185c-4fd5-4a10-9711-06b08d1c9377",
   "metadata": {},
   "source": [
    "_3. Create a new variable that contains a NumPy array with the numbers from 10 to 99.  Create a second variable that contains the 37th through the 54th elements of the first array. Make sure to include the 37th and the 54th elements in your second variable._"
   ]
  },
  {
   "cell_type": "code",
   "execution_count": null,
   "id": "d9d9c64a-da84-481b-b1eb-b33e80305719",
   "metadata": {},
   "outputs": [],
   "source": []
  },
  {
   "cell_type": "markdown",
   "id": "796bd2cd-d8c5-44f8-a35d-cedf48cea26c",
   "metadata": {},
   "source": [
    "_4. Use the `size()` function to determine how long both of the arrays are in question 3.  Print your results using the `print()` command with some text explaining what they mean._"
   ]
  },
  {
   "cell_type": "code",
   "execution_count": null,
   "id": "39507397-97eb-4247-825b-be44712370ae",
   "metadata": {},
   "outputs": [],
   "source": []
  },
  {
   "cell_type": "markdown",
   "id": "8a1471da-2fc2-4a90-b22d-5a595f04ba45",
   "metadata": {},
   "source": [
    "## Making plots using matplotlib.pyplot\n",
    "\n",
    "_1. Import the matplotlib.pyplot module and then make a plot of the function $y = e^x$ (aka the exponential function) for $x$ values from -5 to 5.  Plot the function as a red line._"
   ]
  },
  {
   "cell_type": "code",
   "execution_count": null,
   "id": "0d558975-ad75-445f-8b01-2def0de1da54",
   "metadata": {},
   "outputs": [],
   "source": []
  },
  {
   "cell_type": "markdown",
   "id": "cd3e92ca-0282-4b12-9033-64293f39d0b4",
   "metadata": {},
   "source": [
    "_2. Make a new figure and set of axes, and use them to plot the functions $y = \\sqrt{x}$ and $y = x + 3$ on the same axes. Plot the functions in two different colors over the range $x = [0, 5]$._"
   ]
  },
  {
   "cell_type": "code",
   "execution_count": null,
   "id": "877fd839-db75-490b-9c52-dde8c92a3ce4",
   "metadata": {},
   "outputs": [],
   "source": []
  },
  {
   "cell_type": "markdown",
   "id": "b89769a6-8ed2-4430-b333-554e144bc0d9",
   "metadata": {},
   "source": [
    "_3. Now we're going to load some data from an external source.  Specifically, we want to look at some supplemental data from a recent Geology paper [The construction of the Giza pyramids chronicled by human copper contamination](https://doi.org/10.1130/G51965.1). The paper traces the anthropogenic extent of copper contamination using a statistical tool called [PCA](https://en.wikipedia.org/wiki/Principal_component_analysis), with higher \"PCA Axis 1\" scores meaning higher anthropogenic copper input.  We will reproduce the time series from Figure 1 of the Geology paper by importing the information into our Jupyter Notebook directly from their [supplemental data](https://figshare.com/articles/journal_contribution/Supplemental_Material_The_construction_of_the_Giza_pyramids_chronicled_by_human_copper_contamination/26207768)._\n",
    "\n",
    "_Make a new variable called `data_path` and assign it the string `\"https://figshare.com/ndownloader/files/47503670\"`.  If you copy that URL into a browser window, it will download the Excel workbook, but we don't want to do that. We want to download the data directly from the online source into our Jupyter Notebook, that way we don't have to keep track of the Excel file on our computer._\n",
    "\n",
    "_Next, use the `pandas` function `read_excel` to read the Excel file at this location. Use `data_path` as the first argument to the function instead of the name of a local Excel file.  Make sure to also tell `pandas` that we want the data from the \"Copper contamination\" sheet, and that the header is in the second row by supplying the `header=1` argument._\n",
    "\n",
    "_Now make a line plot with \"Age BCE\" on the x-axis and \"PCA-Axis 1\" on the y-axis.  Compare it to Figure 1 in the text of the paper.  Does time go from right to left or from left to right in these plots?_"
   ]
  },
  {
   "cell_type": "code",
   "execution_count": null,
   "id": "22445675-7fe8-447a-809b-d93b44b1f771",
   "metadata": {},
   "outputs": [],
   "source": []
  }
 ],
 "metadata": {
  "kernelspec": {
   "display_name": "Python 3 (ipykernel)",
   "language": "python",
   "name": "python3"
  },
  "language_info": {
   "codemirror_mode": {
    "name": "ipython",
    "version": 3
   },
   "file_extension": ".py",
   "mimetype": "text/x-python",
   "name": "python",
   "nbconvert_exporter": "python",
   "pygments_lexer": "ipython3",
   "version": "3.10.16"
  }
 },
 "nbformat": 4,
 "nbformat_minor": 5
}
